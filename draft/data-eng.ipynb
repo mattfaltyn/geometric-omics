{
 "cells": [
  {
   "cell_type": "markdown",
   "id": "00910a35-ffbc-4497-bcc8-21f008c326fb",
   "metadata": {
    "tags": []
   },
   "source": [
    "# FinnGen - Data Engineering Notebook"
   ]
  },
  {
   "cell_type": "markdown",
   "id": "a6fd8be8-14cc-4d80-a944-76c5235c078b",
   "metadata": {
    "tags": []
   },
   "source": [
    "## Data Descriptions"
   ]
  },
  {
   "cell_type": "markdown",
   "id": "c1846d70-3c09-4b34-a05b-b72706e828fa",
   "metadata": {
    "tags": []
   },
   "source": [
    "### gwas"
   ]
  },
  {
   "cell_type": "markdown",
   "id": "8535f83a-6468-41bb-b3dc-6e678783c019",
   "metadata": {
    "jp-MarkdownHeadingCollapsed": true,
    "tags": []
   },
   "source": [
    "\n",
    "The `{endpoint}.gz` file has the following structure:\n",
    "\n",
    "| Column name   | Description                                                 |\n",
    "| ------------- | ----------------------------------------------------------- |\n",
    "| #chrom        | chromosome on build GRCh38 (1-23)                           |\n",
    "| pos           | position in base pairs on build GRCh38                       |\n",
    "| ref           | reference allele                                            |\n",
    "| alt           | alternative allele (effect allele)                           |\n",
    "| rsids         | variant identifier                                          |\n",
    "| nearest_genes | nearest gene(s) (comma separated) from variant               |\n",
    "| pval          | p-value from [source]                                        |\n",
    "| mlogp         | -log10(p-value)                                             |\n",
    "| beta          | effect size (log(OR) scale) estimated with [source]          |\n",
    "| sebeta        | standard error of effect size estimated with [source]        |\n",
    "| af_alt        | alternative (effect) allele frequency                        |\n",
    "| af_alt_cases  | alternative (effect) allele frequency among cases            |\n",
    "| af_alt_controls | alternative (effect) allele frequency among controls         |\n"
   ]
  },
  {
   "cell_type": "markdown",
   "id": "4fe3adfe-4cf2-4364-8436-13fbd76cb5b8",
   "metadata": {
    "tags": []
   },
   "source": [
    "### causal"
   ]
  },
  {
   "cell_type": "markdown",
   "id": "2523004e-835d-4025-8275-121db2b79e4c",
   "metadata": {},
   "source": [
    "| Column      | Type    | Description |\n",
    "| ----------- | ------- | ----------- |\n",
    "| `Trait`     | String  | Represents the type of trait associated with the genetic variation. |\n",
    "| `IndexSNP`  | String  | The identifier for the index single nucleotide polymorphism (SNP). |\n",
    "| `SNP`       | String  | The identifier for the SNP itself. |\n",
    "| `CHR`       | Integer | The chromosome on which the SNP is located. |\n",
    "| `POSITION`  | Integer | The base-pair position on the chromosome where the SNP is located. |\n",
    "| `LOCUS`     | String  | The locus or loci on the genome where the SNP is found. |\n",
    "| `REF_ALLELE`| String  | The reference allele for the SNP. This is the allele that is most common in the population. |\n",
    "| `ALT_ALLELE`| String  | The alternate or variant allele for the SNP. This is the allele that is less common in the population. |"
   ]
  },
  {
   "cell_type": "markdown",
   "id": "ef7c3221-9d4e-480c-91fc-aff10d684f3b",
   "metadata": {},
   "source": [
    "Data taken from:\n",
    "\n",
    "[Functional characterization of T2D-associated SNP effects on baseline and ER stress-responsive β cell transcriptional activation](https://www.nature.com/articles/s41467-021-25514-6#MOESM8)"
   ]
  },
  {
   "cell_type": "markdown",
   "id": "7a7cea15-a49b-4ee2-87a5-bf625453328e",
   "metadata": {
    "tags": []
   },
   "source": [
    "### finemap"
   ]
  },
  {
   "cell_type": "markdown",
   "id": "10f3aafa-e866-463a-8cd1-a7416b1ff129",
   "metadata": {},
   "source": [
    "{endpoint}.SUSIE.snp.bgz` contains variant summaries with credible set information and has the following structure:\n",
    "\n",
    "| Column name    | Description                                                        |\n",
    "| -------------- | ------------------------------------------------------------------ |\n",
    "| trait          | endpoint name                                                      |\n",
    "| region         | chr:start-end                                                      |\n",
    "| v              | variant identifier                                                 |\n",
    "| rsid           | rs variant identifier                                              |\n",
    "| chromosome     | chromosome on build GRCh38 (1-22, X)                                |\n",
    "| position       | position in base pairs on build GRCh38                              |\n",
    "| allele1        | reference allele                                                   |\n",
    "| allele2        | alternative allele (effect allele)                                  |\n",
    "| maf            | minor allele frequency                                             |\n",
    "| beta           | effect size GWAS                                                   |\n",
    "| se             | standard error GWAS                                                |\n",
    "| p              | p-value GWAS                                                       |\n",
    "| mean           | posterior expectation of true effect size                           |\n",
    "| sd             | posterior standard deviation of true effect size                   |\n",
    "| prob           | posterior probability of association                                |\n",
    "| cs             | identifier of 95% credible set (-1 = variant is not part of credible set) |\n",
    "| lead_r2        | r2 value to a lead variant (the one with maximum PIP) in a credible set |\n",
    "| alphax         | posterior inclusion probability for the x-th single effect (x := 1..L where L is the number of single effects (causal variants) specified; default: L = 10) |"
   ]
  },
  {
   "cell_type": "markdown",
   "id": "018acd43-12a7-41be-bf26-fc1d03dd7ef7",
   "metadata": {
    "tags": []
   },
   "source": [
    "## Libraries"
   ]
  },
  {
   "cell_type": "code",
   "execution_count": 1,
   "id": "483d7bbb-33ef-4893-b03c-6173b7253544",
   "metadata": {
    "tags": []
   },
   "outputs": [
    {
     "name": "stdout",
     "output_type": "stream",
     "text": [
      "Python version: 3.11.4 (tags/v3.11.4:d2340ef, Jun  7 2023, 05:45:37) [MSC v.1934 64 bit (AMD64)]\n",
      "Pandas version: 2.0.3\n",
      "NumPy version: 1.24.1\n"
     ]
    }
   ],
   "source": [
    "import sys\n",
    "import pandas as pd\n",
    "import numpy as np\n",
    "import requests\n",
    "import time\n",
    "from concurrent.futures import ThreadPoolExecutor\n",
    "\n",
    "\n",
    "\n",
    "print(\"Python version:\", sys.version)\n",
    "print(\"Pandas version:\", pd.__version__)\n",
    "print(\"NumPy version:\", np.__version__)"
   ]
  },
  {
   "cell_type": "markdown",
   "id": "445033a6-7000-4fb6-9c4d-cfe03f570b1c",
   "metadata": {
    "tags": []
   },
   "source": [
    "## Import data"
   ]
  },
  {
   "cell_type": "code",
   "execution_count": 2,
   "id": "d4345459-b1ef-477c-8f06-c8f54c194af0",
   "metadata": {
    "tags": []
   },
   "outputs": [],
   "source": [
    "# Read the 'finemap' file into a pandas DataFrame\n",
    "finemap = pd.read_csv('finemapping_full_finngen_R9_T2D.SUSIE.snp.tsv', low_memory=False, sep='\\t')\n",
    "\n",
    "# Read the 'causal' file into a pandas DataFrame\n",
    "causal = pd.read_csv('causal-t2d.csv', low_memory=False)\n",
    "\n",
    "# Read the 'gwas' file into a pandas DataFrame\n",
    "gwas = pd.read_csv('summary_stats_finngen_R9_T2D.tsv', low_memory=False, sep='\\t')"
   ]
  },
  {
   "cell_type": "code",
   "execution_count": 3,
   "id": "ffc11568-26b1-4283-b6b6-e1fd478f29e2",
   "metadata": {
    "tags": []
   },
   "outputs": [
    {
     "name": "stdout",
     "output_type": "stream",
     "text": [
      "NaNs and missing values in 'gwas':\n",
      "#chrom                   0\n",
      "pos                      0\n",
      "ref                      0\n",
      "alt                      0\n",
      "rsids              1366396\n",
      "nearest_genes       727855\n",
      "pval                     0\n",
      "mlogp                    0\n",
      "beta                     0\n",
      "sebeta                   0\n",
      "af_alt                   0\n",
      "af_alt_cases             0\n",
      "af_alt_controls          0\n",
      "dtype: int64\n"
     ]
    }
   ],
   "source": [
    "print(\"NaNs and missing values in 'gwas':\")\n",
    "empty = gwas.isna().sum()\n",
    "print(empty)"
   ]
  },
  {
   "cell_type": "markdown",
   "id": "3610b12e-d085-49a4-91e8-273fcb9dad32",
   "metadata": {
    "tags": []
   },
   "source": [
    "## Explore data"
   ]
  },
  {
   "cell_type": "code",
   "execution_count": 4,
   "id": "e3742572-cf8b-48a5-a540-4b99d41324b1",
   "metadata": {
    "tags": []
   },
   "outputs": [
    {
     "data": {
      "text/html": [
       "<div>\n",
       "<style scoped>\n",
       "    .dataframe tbody tr th:only-of-type {\n",
       "        vertical-align: middle;\n",
       "    }\n",
       "\n",
       "    .dataframe tbody tr th {\n",
       "        vertical-align: top;\n",
       "    }\n",
       "\n",
       "    .dataframe thead th {\n",
       "        text-align: right;\n",
       "    }\n",
       "</style>\n",
       "<table border=\"1\" class=\"dataframe\">\n",
       "  <thead>\n",
       "    <tr style=\"text-align: right;\">\n",
       "      <th></th>\n",
       "      <th>#chrom</th>\n",
       "      <th>pos</th>\n",
       "      <th>ref</th>\n",
       "      <th>alt</th>\n",
       "      <th>rsids</th>\n",
       "      <th>nearest_genes</th>\n",
       "      <th>pval</th>\n",
       "      <th>mlogp</th>\n",
       "      <th>beta</th>\n",
       "      <th>sebeta</th>\n",
       "      <th>af_alt</th>\n",
       "      <th>af_alt_cases</th>\n",
       "      <th>af_alt_controls</th>\n",
       "    </tr>\n",
       "  </thead>\n",
       "  <tbody>\n",
       "    <tr>\n",
       "      <th>0</th>\n",
       "      <td>1</td>\n",
       "      <td>13668</td>\n",
       "      <td>G</td>\n",
       "      <td>A</td>\n",
       "      <td>rs2691328</td>\n",
       "      <td>OR4F5</td>\n",
       "      <td>0.944365</td>\n",
       "      <td>0.024860</td>\n",
       "      <td>-0.005926</td>\n",
       "      <td>0.084918</td>\n",
       "      <td>0.005842</td>\n",
       "      <td>0.005729</td>\n",
       "      <td>0.005863</td>\n",
       "    </tr>\n",
       "    <tr>\n",
       "      <th>1</th>\n",
       "      <td>1</td>\n",
       "      <td>14773</td>\n",
       "      <td>C</td>\n",
       "      <td>T</td>\n",
       "      <td>rs878915777</td>\n",
       "      <td>OR4F5</td>\n",
       "      <td>0.844305</td>\n",
       "      <td>0.073501</td>\n",
       "      <td>0.010088</td>\n",
       "      <td>0.051369</td>\n",
       "      <td>0.013495</td>\n",
       "      <td>0.013547</td>\n",
       "      <td>0.013485</td>\n",
       "    </tr>\n",
       "    <tr>\n",
       "      <th>2</th>\n",
       "      <td>1</td>\n",
       "      <td>15585</td>\n",
       "      <td>G</td>\n",
       "      <td>A</td>\n",
       "      <td>rs533630043</td>\n",
       "      <td>OR4F5</td>\n",
       "      <td>0.841908</td>\n",
       "      <td>0.074735</td>\n",
       "      <td>0.031464</td>\n",
       "      <td>0.157751</td>\n",
       "      <td>0.001113</td>\n",
       "      <td>0.001125</td>\n",
       "      <td>0.001110</td>\n",
       "    </tr>\n",
       "    <tr>\n",
       "      <th>3</th>\n",
       "      <td>1</td>\n",
       "      <td>16549</td>\n",
       "      <td>T</td>\n",
       "      <td>C</td>\n",
       "      <td>rs1262014613</td>\n",
       "      <td>OR4F5</td>\n",
       "      <td>0.343308</td>\n",
       "      <td>0.464316</td>\n",
       "      <td>0.241377</td>\n",
       "      <td>0.254711</td>\n",
       "      <td>0.000561</td>\n",
       "      <td>0.000620</td>\n",
       "      <td>0.000550</td>\n",
       "    </tr>\n",
       "    <tr>\n",
       "      <th>4</th>\n",
       "      <td>1</td>\n",
       "      <td>16567</td>\n",
       "      <td>G</td>\n",
       "      <td>C</td>\n",
       "      <td>rs1194064194</td>\n",
       "      <td>OR4F5</td>\n",
       "      <td>0.129883</td>\n",
       "      <td>0.886447</td>\n",
       "      <td>0.130736</td>\n",
       "      <td>0.086319</td>\n",
       "      <td>0.004170</td>\n",
       "      <td>0.004250</td>\n",
       "      <td>0.004154</td>\n",
       "    </tr>\n",
       "    <tr>\n",
       "      <th>...</th>\n",
       "      <td>...</td>\n",
       "      <td>...</td>\n",
       "      <td>...</td>\n",
       "      <td>...</td>\n",
       "      <td>...</td>\n",
       "      <td>...</td>\n",
       "      <td>...</td>\n",
       "      <td>...</td>\n",
       "      <td>...</td>\n",
       "      <td>...</td>\n",
       "      <td>...</td>\n",
       "      <td>...</td>\n",
       "      <td>...</td>\n",
       "    </tr>\n",
       "    <tr>\n",
       "      <th>20170001</th>\n",
       "      <td>23</td>\n",
       "      <td>155697920</td>\n",
       "      <td>G</td>\n",
       "      <td>A</td>\n",
       "      <td>NaN</td>\n",
       "      <td>NaN</td>\n",
       "      <td>0.027115</td>\n",
       "      <td>1.566790</td>\n",
       "      <td>-0.013475</td>\n",
       "      <td>0.006097</td>\n",
       "      <td>0.290961</td>\n",
       "      <td>0.286054</td>\n",
       "      <td>0.291879</td>\n",
       "    </tr>\n",
       "    <tr>\n",
       "      <th>20170002</th>\n",
       "      <td>23</td>\n",
       "      <td>155698443</td>\n",
       "      <td>C</td>\n",
       "      <td>A</td>\n",
       "      <td>NaN</td>\n",
       "      <td>NaN</td>\n",
       "      <td>0.178417</td>\n",
       "      <td>0.748564</td>\n",
       "      <td>-0.069907</td>\n",
       "      <td>0.051951</td>\n",
       "      <td>0.003259</td>\n",
       "      <td>0.003022</td>\n",
       "      <td>0.003304</td>\n",
       "    </tr>\n",
       "    <tr>\n",
       "      <th>20170003</th>\n",
       "      <td>23</td>\n",
       "      <td>155698490</td>\n",
       "      <td>C</td>\n",
       "      <td>T</td>\n",
       "      <td>NaN</td>\n",
       "      <td>NaN</td>\n",
       "      <td>0.279640</td>\n",
       "      <td>0.553400</td>\n",
       "      <td>-0.020245</td>\n",
       "      <td>0.018725</td>\n",
       "      <td>0.024406</td>\n",
       "      <td>0.024312</td>\n",
       "      <td>0.024423</td>\n",
       "    </tr>\n",
       "    <tr>\n",
       "      <th>20170004</th>\n",
       "      <td>23</td>\n",
       "      <td>155699751</td>\n",
       "      <td>C</td>\n",
       "      <td>T</td>\n",
       "      <td>NaN</td>\n",
       "      <td>NaN</td>\n",
       "      <td>0.078864</td>\n",
       "      <td>1.103120</td>\n",
       "      <td>-0.011284</td>\n",
       "      <td>0.006421</td>\n",
       "      <td>0.244829</td>\n",
       "      <td>0.241257</td>\n",
       "      <td>0.245498</td>\n",
       "    </tr>\n",
       "    <tr>\n",
       "      <th>20170005</th>\n",
       "      <td>23</td>\n",
       "      <td>155700291</td>\n",
       "      <td>CAA</td>\n",
       "      <td>C</td>\n",
       "      <td>NaN</td>\n",
       "      <td>NaN</td>\n",
       "      <td>0.071590</td>\n",
       "      <td>1.145150</td>\n",
       "      <td>-0.011563</td>\n",
       "      <td>0.006418</td>\n",
       "      <td>0.245328</td>\n",
       "      <td>0.241724</td>\n",
       "      <td>0.246003</td>\n",
       "    </tr>\n",
       "  </tbody>\n",
       "</table>\n",
       "<p>20170006 rows × 13 columns</p>\n",
       "</div>"
      ],
      "text/plain": [
       "          #chrom        pos  ref alt         rsids nearest_genes      pval  \\\n",
       "0              1      13668    G   A     rs2691328         OR4F5  0.944365   \n",
       "1              1      14773    C   T   rs878915777         OR4F5  0.844305   \n",
       "2              1      15585    G   A   rs533630043         OR4F5  0.841908   \n",
       "3              1      16549    T   C  rs1262014613         OR4F5  0.343308   \n",
       "4              1      16567    G   C  rs1194064194         OR4F5  0.129883   \n",
       "...          ...        ...  ...  ..           ...           ...       ...   \n",
       "20170001      23  155697920    G   A           NaN           NaN  0.027115   \n",
       "20170002      23  155698443    C   A           NaN           NaN  0.178417   \n",
       "20170003      23  155698490    C   T           NaN           NaN  0.279640   \n",
       "20170004      23  155699751    C   T           NaN           NaN  0.078864   \n",
       "20170005      23  155700291  CAA   C           NaN           NaN  0.071590   \n",
       "\n",
       "             mlogp      beta    sebeta    af_alt  af_alt_cases  \\\n",
       "0         0.024860 -0.005926  0.084918  0.005842      0.005729   \n",
       "1         0.073501  0.010088  0.051369  0.013495      0.013547   \n",
       "2         0.074735  0.031464  0.157751  0.001113      0.001125   \n",
       "3         0.464316  0.241377  0.254711  0.000561      0.000620   \n",
       "4         0.886447  0.130736  0.086319  0.004170      0.004250   \n",
       "...            ...       ...       ...       ...           ...   \n",
       "20170001  1.566790 -0.013475  0.006097  0.290961      0.286054   \n",
       "20170002  0.748564 -0.069907  0.051951  0.003259      0.003022   \n",
       "20170003  0.553400 -0.020245  0.018725  0.024406      0.024312   \n",
       "20170004  1.103120 -0.011284  0.006421  0.244829      0.241257   \n",
       "20170005  1.145150 -0.011563  0.006418  0.245328      0.241724   \n",
       "\n",
       "          af_alt_controls  \n",
       "0                0.005863  \n",
       "1                0.013485  \n",
       "2                0.001110  \n",
       "3                0.000550  \n",
       "4                0.004154  \n",
       "...                   ...  \n",
       "20170001         0.291879  \n",
       "20170002         0.003304  \n",
       "20170003         0.024423  \n",
       "20170004         0.245498  \n",
       "20170005         0.246003  \n",
       "\n",
       "[20170006 rows x 13 columns]"
      ]
     },
     "execution_count": 4,
     "metadata": {},
     "output_type": "execute_result"
    }
   ],
   "source": [
    "gwas"
   ]
  },
  {
   "cell_type": "code",
   "execution_count": 5,
   "id": "8c5681a2-85f4-4fd3-a3b9-de8824651d5c",
   "metadata": {
    "tags": []
   },
   "outputs": [
    {
     "data": {
      "text/html": [
       "<div>\n",
       "<style scoped>\n",
       "    .dataframe tbody tr th:only-of-type {\n",
       "        vertical-align: middle;\n",
       "    }\n",
       "\n",
       "    .dataframe tbody tr th {\n",
       "        vertical-align: top;\n",
       "    }\n",
       "\n",
       "    .dataframe thead th {\n",
       "        text-align: right;\n",
       "    }\n",
       "</style>\n",
       "<table border=\"1\" class=\"dataframe\">\n",
       "  <thead>\n",
       "    <tr style=\"text-align: right;\">\n",
       "      <th></th>\n",
       "      <th>Trait</th>\n",
       "      <th>IndexSNP</th>\n",
       "      <th>SNP</th>\n",
       "      <th>CHR</th>\n",
       "      <th>POSITION</th>\n",
       "      <th>LOCUS</th>\n",
       "      <th>REF_ALLELE</th>\n",
       "      <th>ALT_ALLELE</th>\n",
       "      <th>MAF_AFR</th>\n",
       "      <th>MAF_AMR</th>\n",
       "      <th>...</th>\n",
       "      <th>REF_HIGHER_Under_Erstress</th>\n",
       "      <th>ALT_HIGHER_Under_Erstress</th>\n",
       "      <th>ATAC_Peak</th>\n",
       "      <th>PDX1</th>\n",
       "      <th>FOXA2</th>\n",
       "      <th>H2A.Z</th>\n",
       "      <th>H3K27ac</th>\n",
       "      <th>MAFB</th>\n",
       "      <th>NKX6.1</th>\n",
       "      <th>CTCF</th>\n",
       "    </tr>\n",
       "  </thead>\n",
       "  <tbody>\n",
       "    <tr>\n",
       "      <th>0</th>\n",
       "      <td>T2D</td>\n",
       "      <td>rs2820446</td>\n",
       "      <td>rs4846567</td>\n",
       "      <td>1</td>\n",
       "      <td>219750717</td>\n",
       "      <td>LYPAL1</td>\n",
       "      <td>G</td>\n",
       "      <td>T</td>\n",
       "      <td>0.05</td>\n",
       "      <td>0.41</td>\n",
       "      <td>...</td>\n",
       "      <td>0.0</td>\n",
       "      <td>-1</td>\n",
       "      <td>1</td>\n",
       "      <td>0</td>\n",
       "      <td>0</td>\n",
       "      <td>0</td>\n",
       "      <td>0</td>\n",
       "      <td>0</td>\n",
       "      <td>0</td>\n",
       "      <td>0</td>\n",
       "    </tr>\n",
       "    <tr>\n",
       "      <th>1</th>\n",
       "      <td>T2D</td>\n",
       "      <td>rs35072907</td>\n",
       "      <td>rs72904726</td>\n",
       "      <td>1</td>\n",
       "      <td>51339332</td>\n",
       "      <td>FAF1</td>\n",
       "      <td>T</td>\n",
       "      <td>C</td>\n",
       "      <td>0.02</td>\n",
       "      <td>0.08</td>\n",
       "      <td>...</td>\n",
       "      <td>0.0</td>\n",
       "      <td>0</td>\n",
       "      <td>1</td>\n",
       "      <td>0</td>\n",
       "      <td>0</td>\n",
       "      <td>0</td>\n",
       "      <td>0</td>\n",
       "      <td>0</td>\n",
       "      <td>0</td>\n",
       "      <td>1</td>\n",
       "    </tr>\n",
       "    <tr>\n",
       "      <th>2</th>\n",
       "      <td>T2D</td>\n",
       "      <td>rs1861612</td>\n",
       "      <td>rs10197480</td>\n",
       "      <td>2</td>\n",
       "      <td>230521253</td>\n",
       "      <td>DNER</td>\n",
       "      <td>C</td>\n",
       "      <td>T</td>\n",
       "      <td>0.53</td>\n",
       "      <td>0.54</td>\n",
       "      <td>...</td>\n",
       "      <td>0.0</td>\n",
       "      <td>0</td>\n",
       "      <td>0</td>\n",
       "      <td>0</td>\n",
       "      <td>0</td>\n",
       "      <td>0</td>\n",
       "      <td>0</td>\n",
       "      <td>0</td>\n",
       "      <td>0</td>\n",
       "      <td>0</td>\n",
       "    </tr>\n",
       "    <tr>\n",
       "      <th>3</th>\n",
       "      <td>T2D</td>\n",
       "      <td>rs34669198</td>\n",
       "      <td>rs13026123</td>\n",
       "      <td>2</td>\n",
       "      <td>45654050</td>\n",
       "      <td>SRBD1</td>\n",
       "      <td>T</td>\n",
       "      <td>A</td>\n",
       "      <td>0.09</td>\n",
       "      <td>0.09</td>\n",
       "      <td>...</td>\n",
       "      <td>1.0</td>\n",
       "      <td>0</td>\n",
       "      <td>0</td>\n",
       "      <td>0</td>\n",
       "      <td>0</td>\n",
       "      <td>0</td>\n",
       "      <td>0</td>\n",
       "      <td>0</td>\n",
       "      <td>0</td>\n",
       "      <td>0</td>\n",
       "    </tr>\n",
       "    <tr>\n",
       "      <th>4</th>\n",
       "      <td>T2D</td>\n",
       "      <td>rs3923113</td>\n",
       "      <td>rs6713419</td>\n",
       "      <td>2</td>\n",
       "      <td>165508300</td>\n",
       "      <td>GRB14,COBLL1</td>\n",
       "      <td>T</td>\n",
       "      <td>C</td>\n",
       "      <td>0.76</td>\n",
       "      <td>0.29</td>\n",
       "      <td>...</td>\n",
       "      <td>0.0</td>\n",
       "      <td>0</td>\n",
       "      <td>0</td>\n",
       "      <td>0</td>\n",
       "      <td>0</td>\n",
       "      <td>0</td>\n",
       "      <td>0</td>\n",
       "      <td>0</td>\n",
       "      <td>0</td>\n",
       "      <td>0</td>\n",
       "    </tr>\n",
       "  </tbody>\n",
       "</table>\n",
       "<p>5 rows × 43 columns</p>\n",
       "</div>"
      ],
      "text/plain": [
       "  Trait    IndexSNP         SNP CHR   POSITION         LOCUS REF_ALLELE  \\\n",
       "0   T2D   rs2820446   rs4846567   1  219750717        LYPAL1          G   \n",
       "1   T2D  rs35072907  rs72904726   1   51339332          FAF1          T   \n",
       "2   T2D   rs1861612  rs10197480   2  230521253          DNER          C   \n",
       "3   T2D  rs34669198  rs13026123   2   45654050         SRBD1          T   \n",
       "4   T2D   rs3923113   rs6713419   2  165508300  GRB14,COBLL1          T   \n",
       "\n",
       "  ALT_ALLELE  MAF_AFR  MAF_AMR  ...  REF_HIGHER_Under_Erstress  \\\n",
       "0          T     0.05     0.41  ...                        0.0   \n",
       "1          C     0.02     0.08  ...                        0.0   \n",
       "2          T     0.53     0.54  ...                        0.0   \n",
       "3          A     0.09     0.09  ...                        1.0   \n",
       "4          C     0.76     0.29  ...                        0.0   \n",
       "\n",
       "   ALT_HIGHER_Under_Erstress ATAC_Peak PDX1 FOXA2  H2A.Z  H3K27ac  MAFB  \\\n",
       "0                         -1         1    0     0      0        0     0   \n",
       "1                          0         1    0     0      0        0     0   \n",
       "2                          0         0    0     0      0        0     0   \n",
       "3                          0         0    0     0      0        0     0   \n",
       "4                          0         0    0     0      0        0     0   \n",
       "\n",
       "   NKX6.1  CTCF  \n",
       "0       0     0  \n",
       "1       0     1  \n",
       "2       0     0  \n",
       "3       0     0  \n",
       "4       0     0  \n",
       "\n",
       "[5 rows x 43 columns]"
      ]
     },
     "execution_count": 5,
     "metadata": {},
     "output_type": "execute_result"
    }
   ],
   "source": [
    "causal.head()"
   ]
  },
  {
   "cell_type": "code",
   "execution_count": 6,
   "id": "dc659323-8943-4e41-9f41-5cd0c8e2c17e",
   "metadata": {
    "tags": []
   },
   "outputs": [
    {
     "data": {
      "text/html": [
       "<div>\n",
       "<style scoped>\n",
       "    .dataframe tbody tr th:only-of-type {\n",
       "        vertical-align: middle;\n",
       "    }\n",
       "\n",
       "    .dataframe tbody tr th {\n",
       "        vertical-align: top;\n",
       "    }\n",
       "\n",
       "    .dataframe thead th {\n",
       "        text-align: right;\n",
       "    }\n",
       "</style>\n",
       "<table border=\"1\" class=\"dataframe\">\n",
       "  <thead>\n",
       "    <tr style=\"text-align: right;\">\n",
       "      <th></th>\n",
       "      <th>trait</th>\n",
       "      <th>region</th>\n",
       "      <th>v</th>\n",
       "      <th>rsid</th>\n",
       "      <th>chromosome</th>\n",
       "      <th>position</th>\n",
       "      <th>allele1</th>\n",
       "      <th>allele2</th>\n",
       "      <th>maf</th>\n",
       "      <th>beta</th>\n",
       "      <th>...</th>\n",
       "      <th>lbf_variable1</th>\n",
       "      <th>lbf_variable2</th>\n",
       "      <th>lbf_variable3</th>\n",
       "      <th>lbf_variable4</th>\n",
       "      <th>lbf_variable5</th>\n",
       "      <th>lbf_variable6</th>\n",
       "      <th>lbf_variable7</th>\n",
       "      <th>lbf_variable8</th>\n",
       "      <th>lbf_variable9</th>\n",
       "      <th>lbf_variable10</th>\n",
       "    </tr>\n",
       "  </thead>\n",
       "  <tbody>\n",
       "    <tr>\n",
       "      <th>0</th>\n",
       "      <td>T2D</td>\n",
       "      <td>chr1:18908743-21908743</td>\n",
       "      <td>1:18908743:G:A</td>\n",
       "      <td>chr1_18908743_G_A</td>\n",
       "      <td>chr1</td>\n",
       "      <td>18908743</td>\n",
       "      <td>G</td>\n",
       "      <td>A</td>\n",
       "      <td>0.000438</td>\n",
       "      <td>-0.143377</td>\n",
       "      <td>...</td>\n",
       "      <td>-1.448766</td>\n",
       "      <td>-0.536436</td>\n",
       "      <td>-0.533681</td>\n",
       "      <td>-0.531823</td>\n",
       "      <td>-0.531294</td>\n",
       "      <td>-0.532036</td>\n",
       "      <td>-0.533612</td>\n",
       "      <td>-0.535413</td>\n",
       "      <td>-0.536846</td>\n",
       "      <td>-0.537469</td>\n",
       "    </tr>\n",
       "    <tr>\n",
       "      <th>1</th>\n",
       "      <td>T2D</td>\n",
       "      <td>chr1:18908743-21908743</td>\n",
       "      <td>1:18909023:T:C</td>\n",
       "      <td>chr1_18909023_T_C</td>\n",
       "      <td>chr1</td>\n",
       "      <td>18909023</td>\n",
       "      <td>T</td>\n",
       "      <td>C</td>\n",
       "      <td>0.198418</td>\n",
       "      <td>-0.008341</td>\n",
       "      <td>...</td>\n",
       "      <td>-1.325844</td>\n",
       "      <td>-0.352317</td>\n",
       "      <td>-0.350020</td>\n",
       "      <td>-0.348464</td>\n",
       "      <td>-0.348012</td>\n",
       "      <td>-0.348617</td>\n",
       "      <td>-0.349921</td>\n",
       "      <td>-0.351417</td>\n",
       "      <td>-0.352614</td>\n",
       "      <td>-0.353139</td>\n",
       "    </tr>\n",
       "    <tr>\n",
       "      <th>2</th>\n",
       "      <td>T2D</td>\n",
       "      <td>chr1:18908743-21908743</td>\n",
       "      <td>1:18909112:G:A</td>\n",
       "      <td>chr1_18909112_G_A</td>\n",
       "      <td>chr1</td>\n",
       "      <td>18909112</td>\n",
       "      <td>G</td>\n",
       "      <td>A</td>\n",
       "      <td>0.159798</td>\n",
       "      <td>-0.006078</td>\n",
       "      <td>...</td>\n",
       "      <td>-1.561368</td>\n",
       "      <td>-0.529649</td>\n",
       "      <td>-0.526932</td>\n",
       "      <td>-0.525097</td>\n",
       "      <td>-0.524573</td>\n",
       "      <td>-0.525301</td>\n",
       "      <td>-0.526853</td>\n",
       "      <td>-0.528628</td>\n",
       "      <td>-0.530041</td>\n",
       "      <td>-0.530656</td>\n",
       "    </tr>\n",
       "    <tr>\n",
       "      <th>3</th>\n",
       "      <td>T2D</td>\n",
       "      <td>chr1:18908743-21908743</td>\n",
       "      <td>1:18909164:T:C</td>\n",
       "      <td>chr1_18909164_T_C</td>\n",
       "      <td>chr1</td>\n",
       "      <td>18909164</td>\n",
       "      <td>T</td>\n",
       "      <td>C</td>\n",
       "      <td>0.168400</td>\n",
       "      <td>-0.004160</td>\n",
       "      <td>...</td>\n",
       "      <td>-1.657574</td>\n",
       "      <td>-0.652146</td>\n",
       "      <td>-0.649198</td>\n",
       "      <td>-0.647204</td>\n",
       "      <td>-0.646632</td>\n",
       "      <td>-0.647420</td>\n",
       "      <td>-0.649103</td>\n",
       "      <td>-0.651028</td>\n",
       "      <td>-0.652563</td>\n",
       "      <td>-0.653231</td>\n",
       "    </tr>\n",
       "    <tr>\n",
       "      <th>4</th>\n",
       "      <td>T2D</td>\n",
       "      <td>chr1:18908743-21908743</td>\n",
       "      <td>1:18909192:C:CTACG</td>\n",
       "      <td>chr1_18909192_C_CTACG</td>\n",
       "      <td>chr1</td>\n",
       "      <td>18909192</td>\n",
       "      <td>C</td>\n",
       "      <td>CTACG</td>\n",
       "      <td>0.000248</td>\n",
       "      <td>0.149161</td>\n",
       "      <td>...</td>\n",
       "      <td>-1.565444</td>\n",
       "      <td>-0.628124</td>\n",
       "      <td>-0.625089</td>\n",
       "      <td>-0.623034</td>\n",
       "      <td>-0.622444</td>\n",
       "      <td>-0.623254</td>\n",
       "      <td>-0.624986</td>\n",
       "      <td>-0.626968</td>\n",
       "      <td>-0.628549</td>\n",
       "      <td>-0.629239</td>\n",
       "    </tr>\n",
       "  </tbody>\n",
       "</table>\n",
       "<p>5 rows × 66 columns</p>\n",
       "</div>"
      ],
      "text/plain": [
       "  trait                  region                   v                   rsid  \\\n",
       "0   T2D  chr1:18908743-21908743      1:18908743:G:A      chr1_18908743_G_A   \n",
       "1   T2D  chr1:18908743-21908743      1:18909023:T:C      chr1_18909023_T_C   \n",
       "2   T2D  chr1:18908743-21908743      1:18909112:G:A      chr1_18909112_G_A   \n",
       "3   T2D  chr1:18908743-21908743      1:18909164:T:C      chr1_18909164_T_C   \n",
       "4   T2D  chr1:18908743-21908743  1:18909192:C:CTACG  chr1_18909192_C_CTACG   \n",
       "\n",
       "  chromosome  position allele1 allele2       maf      beta  ...  \\\n",
       "0       chr1  18908743       G       A  0.000438 -0.143377  ...   \n",
       "1       chr1  18909023       T       C  0.198418 -0.008341  ...   \n",
       "2       chr1  18909112       G       A  0.159798 -0.006078  ...   \n",
       "3       chr1  18909164       T       C  0.168400 -0.004160  ...   \n",
       "4       chr1  18909192       C   CTACG  0.000248  0.149161  ...   \n",
       "\n",
       "   lbf_variable1  lbf_variable2  lbf_variable3  lbf_variable4  lbf_variable5  \\\n",
       "0      -1.448766      -0.536436      -0.533681      -0.531823      -0.531294   \n",
       "1      -1.325844      -0.352317      -0.350020      -0.348464      -0.348012   \n",
       "2      -1.561368      -0.529649      -0.526932      -0.525097      -0.524573   \n",
       "3      -1.657574      -0.652146      -0.649198      -0.647204      -0.646632   \n",
       "4      -1.565444      -0.628124      -0.625089      -0.623034      -0.622444   \n",
       "\n",
       "   lbf_variable6  lbf_variable7  lbf_variable8  lbf_variable9  lbf_variable10  \n",
       "0      -0.532036      -0.533612      -0.535413      -0.536846       -0.537469  \n",
       "1      -0.348617      -0.349921      -0.351417      -0.352614       -0.353139  \n",
       "2      -0.525301      -0.526853      -0.528628      -0.530041       -0.530656  \n",
       "3      -0.647420      -0.649103      -0.651028      -0.652563       -0.653231  \n",
       "4      -0.623254      -0.624986      -0.626968      -0.628549       -0.629239  \n",
       "\n",
       "[5 rows x 66 columns]"
      ]
     },
     "execution_count": 6,
     "metadata": {},
     "output_type": "execute_result"
    }
   ],
   "source": [
    "finemap.head()"
   ]
  },
  {
   "cell_type": "code",
   "execution_count": 7,
   "id": "95020fad-f610-4ae3-876a-ebcaef2b2985",
   "metadata": {
    "tags": []
   },
   "outputs": [],
   "source": [
    "def explore_dataframe(dataframe, dataframe_name):\n",
    "    print(\"=== DataFrame Exploration: {} ===\".format(dataframe_name))\n",
    "    print(\"Number of Rows: {}\".format(dataframe.shape[0]))\n",
    "    print(\"Number of Columns: {}\".format(dataframe.shape[1]))\n",
    "    print(\"Column Names: {}\".format(\", \".join(dataframe.columns)))\n",
    "    print(\"\\nData Types of Columns:\")\n",
    "    print(dataframe.dtypes)\n",
    "    print(\"\\nNull Value Counts:\")\n",
    "    print(dataframe.isnull().sum())\n",
    "    print(\"\\nSummary Statistics:\")\n",
    "    print(dataframe.describe())\n",
    "    print(\"=== End of DataFrame Exploration: {} ===\\n\".format(dataframe_name))\n",
    "    \n",
    "#explore_dataframe(gwas, \"gwas\")\n",
    "#explore_dataframe(causal, \"causal\")\n",
    "#explore_dataframe(finemap, \"finemap\")"
   ]
  },
  {
   "cell_type": "markdown",
   "id": "c46b7243-adf9-42ac-9026-c5ac411159b6",
   "metadata": {
    "tags": []
   },
   "source": [
    "## Data manipulation"
   ]
  },
  {
   "cell_type": "markdown",
   "id": "e8573bef-1cda-4e57-b3fa-f2b40333620a",
   "metadata": {
    "tags": []
   },
   "source": [
    "### Adjust `chromosome` in `finemap`"
   ]
  },
  {
   "cell_type": "code",
   "execution_count": 8,
   "id": "825d60e9-ce09-43d2-8b4d-e5f47a942e90",
   "metadata": {
    "tags": []
   },
   "outputs": [],
   "source": [
    "# Extract number from 'chromosome' and replace 'X' with '23'\n",
    "finemap['chromosome'] = finemap['chromosome'].str.extract('(\\d+|X)', expand=False).replace('X', '23')\n",
    "\n",
    "# Convert 'chromosome' column to 'int64'\n",
    "finemap['chromosome'] = finemap['chromosome'].astype('int64')\n",
    "\n",
    "# Assertions to verify the data manipulations\n",
    "assert finemap['chromosome'].dtype == 'int64'  \n",
    "assert finemap['chromosome'].isin(range(1, 24)).all()  "
   ]
  },
  {
   "cell_type": "markdown",
   "id": "337a14ab-c09e-42ae-b737-40f95d2080da",
   "metadata": {
    "tags": []
   },
   "source": [
    "### Adjust `v` in `finemap`"
   ]
  },
  {
   "cell_type": "code",
   "execution_count": 9,
   "id": "a1c693d8-0ed6-4529-9c3c-3588f5034ce4",
   "metadata": {
    "tags": []
   },
   "outputs": [],
   "source": [
    "# Replace 'X' with '23' in 'v' column of finemap\n",
    "finemap['v'] = finemap['v'].str.replace(r'(^X:)', '23:', regex=True)\n",
    "\n",
    "# Assert 'X' is not in 'v' column anymore\n",
    "assert 'X' not in finemap['v']"
   ]
  },
  {
   "cell_type": "markdown",
   "id": "c30d6716-fce0-4ca7-9f2b-0070bda37dce",
   "metadata": {
    "tags": []
   },
   "source": [
    "### Create `finemapped` in `gwas`"
   ]
  },
  {
   "cell_type": "code",
   "execution_count": 10,
   "id": "f90a6277-747b-4cc6-994c-06e772128d65",
   "metadata": {},
   "outputs": [
    {
     "name": "stdout",
     "output_type": "stream",
     "text": [
      "Assertions passed successfully.\n"
     ]
    }
   ],
   "source": [
    "# Create the 'id' column in the 'gwas' DataFrame\n",
    "gwas['id'] = gwas['#chrom'].astype(str) + ':' + gwas['pos'].astype(str) + ':' + gwas['ref'] + ':' + gwas['alt']\n",
    "\n",
    "# Create a set for faster lookup\n",
    "finemap_set = set(finemap['v'].values)\n",
    "\n",
    "# Use the set for lookup\n",
    "gwas['finemapped'] = gwas['id'].apply(lambda x: 1 if x in finemap_set else 0)\n",
    "\n",
    "# Count the number of 1s in the 'finemapped' column\n",
    "count_ones = gwas['finemapped'].sum()\n",
    "\n",
    "# Perform assertions to validate the results\n",
    "assert len(gwas) == len(gwas['id']) == len(gwas['finemapped']), \"Lengths do not match.\"\n",
    "assert count_ones <= len(gwas), \"Invalid count of 1s.\"\n",
    "\n",
    "print(\"Assertions passed successfully.\")"
   ]
  },
  {
   "cell_type": "markdown",
   "id": "6e79e8be-04d4-4975-9f49-2fdd9ab22bc4",
   "metadata": {
    "tags": []
   },
   "source": [
    "### Create `causal` in `gwas`"
   ]
  },
  {
   "cell_type": "code",
   "execution_count": 11,
   "id": "c5c712ba-9fce-4e24-be1c-620e03c32965",
   "metadata": {},
   "outputs": [
    {
     "name": "stdout",
     "output_type": "stream",
     "text": [
      "Sum of the 'causal' column: 37\n"
     ]
    }
   ],
   "source": [
    "# Replace 'X' values in 'CHR' column with 23\n",
    "#causal['CHR'] = causal['CHR'].replace('X', 23)\n",
    "\n",
    "# Ensure that the causal DataFrame is indexed by 'SNP'\n",
    "causal.set_index('SNP', inplace=True)\n",
    "\n",
    "# Assert that 'SNP' is the index of the causal DataFrame\n",
    "assert causal.index.name == 'SNP', \"Index of the causal DataFrame should be 'SNP'\"\n",
    "\n",
    "# Map the SNPs from the causal DataFrame to the gwas DataFrame, and set the value to 1 if the SNP exists in the causal DataFrame, and 0 otherwise\n",
    "gwas['causal'] = gwas['rsids'].isin(causal.index).astype(int)\n",
    "\n",
    "# Assert that 'causal' column only contains 0s and 1s\n",
    "assert set(gwas['causal'].unique()) <= {0, 1}, \"'causal' column should only contain 0s and 1s\"\n",
    "\n",
    "# Calculate the sum of the 'causal' column\n",
    "causal_sum = gwas['causal'].sum()\n",
    "\n",
    "print(f\"Sum of the 'causal' column: {causal_sum}\")\n"
   ]
  },
  {
   "cell_type": "markdown",
   "id": "d5e503e8-1146-47d2-a25c-0f57905d4994",
   "metadata": {
    "tags": []
   },
   "source": [
    "### Extract `trait` from `finemap` to `gwas`"
   ]
  },
  {
   "cell_type": "code",
   "execution_count": 12,
   "id": "159fbc16-3d9c-4e80-b8dd-271a2088b20d",
   "metadata": {
    "tags": []
   },
   "outputs": [],
   "source": [
    "unique_trait = finemap['trait'].unique()\n",
    "trait_string = unique_trait[0]\n",
    "gwas['trait'] = trait_string"
   ]
  },
  {
   "cell_type": "markdown",
   "id": "8a4694be-acb8-4d22-9053-d985fe51fef6",
   "metadata": {
    "tags": []
   },
   "source": [
    "## Export csv"
   ]
  },
  {
   "cell_type": "code",
   "execution_count": 15,
   "id": "ca8ebd33-8d99-4a37-85f0-c707d04333b7",
   "metadata": {
    "tags": []
   },
   "outputs": [],
   "source": [
    "gwas.to_csv('gwas-fine-causal.csv', index=False)"
   ]
  }
 ],
 "metadata": {
  "kernelspec": {
   "display_name": "Python 3 (ipykernel)",
   "language": "python",
   "name": "python3"
  },
  "language_info": {
   "codemirror_mode": {
    "name": "ipython",
    "version": 3
   },
   "file_extension": ".py",
   "mimetype": "text/x-python",
   "name": "python",
   "nbconvert_exporter": "python",
   "pygments_lexer": "ipython3",
   "version": "3.11.4"
  }
 },
 "nbformat": 4,
 "nbformat_minor": 5
}
